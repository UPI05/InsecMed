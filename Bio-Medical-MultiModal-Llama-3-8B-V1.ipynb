{
 "cells": [
  {
   "cell_type": "code",
   "execution_count": null,
   "metadata": {},
   "outputs": [],
   "source": [
    "from huggingface_hub import login\n",
    "\n",
    "login(\"\")"
   ]
  },
  {
   "cell_type": "code",
   "execution_count": 1,
   "metadata": {},
   "outputs": [
    {
     "name": "stderr",
     "output_type": "stream",
     "text": [
      "/home/d1l1th1um/Desktop/demo/env/lib/python3.12/site-packages/tqdm/auto.py:21: TqdmWarning: IProgress not found. Please update jupyter and ipywidgets. See https://ipywidgets.readthedocs.io/en/stable/user_install.html\n",
      "  from .autonotebook import tqdm as notebook_tqdm\n",
      "`torch_dtype` is deprecated! Use `dtype` instead!\n",
      "Loading checkpoint shards: 100%|██████████| 4/4 [01:45<00:00, 26.29s/it]\n",
      "/home/d1l1th1um/Desktop/demo/env/lib/python3.12/site-packages/transformers/models/auto/image_processing_auto.py:646: FutureWarning: The image_processor_class argument is deprecated and will be removed in v4.42. Please use `slow_image_processor_class`, or `fast_image_processor_class` instead\n",
      "  warnings.warn(\n",
      "Using a slow image processor as `use_fast` is unset and a slow processor was saved with this model. `use_fast=True` will be the default behavior in v4.52, even if the model was saved with a slow processor. This will result in minor differences in outputs. You'll still be able to use a slow processor with `use_fast=False`.\n"
     ]
    }
   ],
   "source": [
    "import torch\n",
    "from PIL import Image\n",
    "from transformers import AutoModel, AutoTokenizer, AutoProcessor\n",
    "\n",
    "# -----------------------------\n",
    "# 1️⃣ Đường dẫn local model\n",
    "# -----------------------------\n",
    "model_path = \"./bio-medical-multimodal-llama\"\n",
    "\n",
    "# -----------------------------\n",
    "# 2️⃣ Load model và tokenizer\n",
    "# -----------------------------\n",
    "model = AutoModel.from_pretrained(\n",
    "    model_path,\n",
    "    device_map=\"cpu\",           # chạy trên CPU\n",
    "    torch_dtype=torch.float32,  # CPU FP32\n",
    "    attn_implementation=\"eager\",\n",
    "    trust_remote_code=True,\n",
    "    local_files_only=True       # chỉ dùng file local\n",
    ")\n",
    "\n",
    "tokenizer = AutoTokenizer.from_pretrained(\n",
    "    model_path,\n",
    "    trust_remote_code=True,\n",
    "    local_files_only=True\n",
    ")\n",
    "# -----------------------------\n",
    "# 3️⃣ Load processor (xử lý ảnh + text)\n",
    "# -----------------------------\n",
    "processor = AutoProcessor.from_pretrained(\n",
    "    model_path,\n",
    "    trust_remote_code=True,\n",
    "    local_files_only=True\n",
    ")\n"
   ]
  },
  {
   "cell_type": "code",
   "execution_count": 2,
   "metadata": {},
   "outputs": [],
   "source": [
    "# Load image and prepare inputs\n",
    "image = Image.open(\"image.jpg\").convert(\"RGB\")\n",
    "question = \"what is this?\"\n",
    "msgs = [{'role': 'user', 'content': [image, question]}]\n"
   ]
  },
  {
   "cell_type": "code",
   "execution_count": 3,
   "metadata": {},
   "outputs": [],
   "source": [
    "res = model.chat( image=image, msgs=msgs, tokenizer=tokenizer, sampling=False, stream=False )"
   ]
  },
  {
   "cell_type": "code",
   "execution_count": 4,
   "metadata": {},
   "outputs": [
    {
     "name": "stdout",
     "output_type": "stream",
     "text": [
      "This is a chest X-ray, which is a type of imaging test that uses low levels of radiation to create detailed images of the structures within the chest, such as the lungs, heart, and bones. Chest X-rays are commonly used to help diagnose and monitor a wide range of medical conditions, including infections, injuries, and diseases affecting the chest and respiratory system.\n"
     ]
    }
   ],
   "source": [
    "print(res)"
   ]
  },
  {
   "cell_type": "code",
   "execution_count": 5,
   "metadata": {},
   "outputs": [
    {
     "name": "stdout",
     "output_type": "stream",
     "text": [
      "This is a chest X-ray, which is a type of imaging t"
     ]
    },
    {
     "name": "stdout",
     "output_type": "stream",
     "text": [
      "est that uses low levels of radiation to create detailed images of the structures within the chest, such as the lungs, heart, and bones. Chest X-rays are commonly used to help diagnose and monitor a wide range of medical conditions, including infections, injuries, and diseases affecting the chest and respiratory system."
     ]
    }
   ],
   "source": [
    "generated_text = \"\"\n",
    "\n",
    "for new_text in res:\n",
    "    generated_text += new_text\n",
    "    print(new_text, flush=True, end='')"
   ]
  }
 ],
 "metadata": {
  "kernelspec": {
   "display_name": "env",
   "language": "python",
   "name": "python3"
  },
  "language_info": {
   "codemirror_mode": {
    "name": "ipython",
    "version": 3
   },
   "file_extension": ".py",
   "mimetype": "text/x-python",
   "name": "python",
   "nbconvert_exporter": "python",
   "pygments_lexer": "ipython3",
   "version": "3.12.3"
  }
 },
 "nbformat": 4,
 "nbformat_minor": 2
}
