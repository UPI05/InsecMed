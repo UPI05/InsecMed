{
 "cells": [
  {
   "cell_type": "code",
   "execution_count": 1,
   "metadata": {},
   "outputs": [
    {
     "name": "stderr",
     "output_type": "stream",
     "text": [
      "/home/d1l1th1um/Desktop/demo/env/lib/python3.12/site-packages/tqdm/auto.py:21: TqdmWarning: IProgress not found. Please update jupyter and ipywidgets. See https://ipywidgets.readthedocs.io/en/stable/user_install.html\n",
      "  from .autonotebook import tqdm as notebook_tqdm\n",
      "Fetching 1 files: 100%|██████████| 1/1 [00:00<00:00, 8371.86it/s]\n",
      "Fetching 1 files: 100%|██████████| 1/1 [00:00<00:00, 7543.71it/s]\n",
      "The 8-bit optimizer is not available on your device, only available on CUDA for now.\n"
     ]
    }
   ],
   "source": [
    "from transformers import AutoProcessor, AutoModelForImageTextToText\n",
    "from PIL import Image\n",
    "\n",
    "model_id = \"Shashwath01/Idefic_medical_VQA_merged_4bit\"\n",
    "\n",
    "# Lấy processor từ mô hình gốc\n",
    "processor = AutoProcessor.from_pretrained(\"HuggingFaceM4/idefics-9b\")\n",
    "model = AutoModelForImageTextToText.from_pretrained(model_id)\n"
   ]
  },
  {
   "cell_type": "code",
   "execution_count": 3,
   "metadata": {},
   "outputs": [
    {
     "name": "stdout",
     "output_type": "stream",
     "text": [
      "Question: Please provide a detailed step-by-step explanation of the important medical findings in this X-ray image, including possible diagnoses, anatomical structures involved, and any recommendations for further tests or treatments.\n",
      "Answer:\n",
      "\n",
      "This is a chest X-ray of a 10-year-old boy with a history of recurrent pneumonia. The patient is on a ventilator.\n",
      "\n",
      "The most striking finding is the large pleural\n"
     ]
    }
   ],
   "source": [
    "import torch\n",
    "from PIL import Image\n",
    "\n",
    "device = \"cuda\" if torch.cuda.is_available() else \"cpu\"\n",
    "\n",
    "def do_inference(model, processor, image_path, question, max_new_tokens=50):\n",
    "    tokenizer = processor.tokenizer\n",
    "    bad_words_ids = tokenizer([\"<image>\", \"<fake_token_around_image>\"], add_special_tokens=False).input_ids\n",
    "    eos_token_id = tokenizer.eos_token_id  # Dùng eos_token mặc định\n",
    "\n",
    "    img = Image.open(image_path)\n",
    "    prompt = f\"Question: {question}\\nAnswer:\"\n",
    "\n",
    "    inputs = processor(images=img, text=prompt, return_tensors=\"pt\").to(device)\n",
    "    generated_ids = model.generate(\n",
    "        **inputs,\n",
    "        eos_token_id=eos_token_id,\n",
    "        bad_words_ids=bad_words_ids,\n",
    "        pad_token_id=tokenizer.pad_token_id,\n",
    "        max_new_tokens=max_new_tokens\n",
    "    )\n",
    "    generated_text = processor.batch_decode(generated_ids, skip_special_tokens=True)[0]\n",
    "    print(generated_text)\n",
    "\n",
    "do_inference(model, processor, \"image.jpg\", \"Please provide a detailed step-by-step explanation of the important medical findings in this X-ray image, including possible diagnoses, anatomical structures involved, and any recommendations for further tests or treatments.\", max_new_tokens=50)\n"
   ]
  }
 ],
 "metadata": {
  "kernelspec": {
   "display_name": "env",
   "language": "python",
   "name": "python3"
  },
  "language_info": {
   "codemirror_mode": {
    "name": "ipython",
    "version": 3
   },
   "file_extension": ".py",
   "mimetype": "text/x-python",
   "name": "python",
   "nbconvert_exporter": "python",
   "pygments_lexer": "ipython3",
   "version": "3.12.3"
  }
 },
 "nbformat": 4,
 "nbformat_minor": 2
}
