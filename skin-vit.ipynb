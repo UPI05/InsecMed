{
 "cells": [
  {
   "cell_type": "code",
   "execution_count": 2,
   "metadata": {},
   "outputs": [
    {
     "name": "stderr",
     "output_type": "stream",
     "text": [
      "Fetching 1 files: 100%|██████████| 1/1 [00:00<00:00, 7145.32it/s]\n",
      "Fast image processor class <class 'transformers.models.vit.image_processing_vit_fast.ViTImageProcessorFast'> is available for this model. Using slow image processor class. To use the fast image processor class set `use_fast=True`.\n",
      "Fetching 1 files: 100%|██████████| 1/1 [00:00<00:00, 8793.09it/s]\n",
      "Device set to use cpu\n"
     ]
    },
    {
     "data": {
      "text/plain": [
       "[{'label': 'actinic_keratoses', 'score': 0.9808074831962585},\n",
       " {'label': 'melanoma', 'score': 0.012898637913167477},\n",
       " {'label': 'benign_keratosis-like_lesions', 'score': 0.0016554724425077438},\n",
       " {'label': 'melanocytic_Nevi', 'score': 0.0014811366563662887},\n",
       " {'label': 'dermatofibroma', 'score': 0.0012407504254952073}]"
      ]
     },
     "execution_count": 2,
     "metadata": {},
     "output_type": "execute_result"
    }
   ],
   "source": [
    "# Use a pipeline as a high-level helper\n",
    "\n",
    "from transformers import pipeline\n",
    "\n",
    "\n",
    "\n",
    "pipe = pipeline(\"image-classification\", model=\"Anwarkh1/Skin_Cancer-Image_Classification\")\n",
    "\n",
    "pipe(\"https://datasets-server.huggingface.co/assets/marmal88/skin_cancer/--/default/train/0/image/image.jpg?Expires=1757041266&Signature=CYqfeJrMomp7Aq1vragUO~iWvr3fUnU-S3wQYUOcU-vxutcEcmf924V~~NcdPgpq-8bMbE1sygtniPubgmQdZ5unv-MnPph-FJAup0aAzR~jMq-KgRgcxyTHaXddDd~z439pldqVQ4R7QmUp~BO67btEBNemWCMlpCg80pDgriM~Z85jRPZqxqRRTx5d0f26IRjvpL4C4beUqS9-Xv2V~OPTfndSGAakh1bWiXqZEt-zh4RtXaszbNLW7gqrWK3bP98xem-GeJNm3KYIwIyLWHCQUPEqOUKLTUA30r0cOJ611HXTiWRM8C8cAuGaINOoodTgk6ReyqNNIFsxQgPz5g__&Key-Pair-Id=K3EI6M078Z3AC3\")"
   ]
  }
 ],
 "metadata": {
  "kernelspec": {
   "display_name": "env",
   "language": "python",
   "name": "python3"
  },
  "language_info": {
   "codemirror_mode": {
    "name": "ipython",
    "version": 3
   },
   "file_extension": ".py",
   "mimetype": "text/x-python",
   "name": "python",
   "nbconvert_exporter": "python",
   "pygments_lexer": "ipython3",
   "version": "3.12.3"
  }
 },
 "nbformat": 4,
 "nbformat_minor": 2
}
