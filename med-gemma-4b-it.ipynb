{
 "cells": [
  {
   "cell_type": "code",
   "execution_count": null,
   "metadata": {},
   "outputs": [],
   "source": [
    "from huggingface_hub import login\n",
    "\n",
    "login(\"\")"
   ]
  },
  {
   "cell_type": "code",
   "execution_count": 4,
   "metadata": {},
   "outputs": [
    {
     "name": "stderr",
     "output_type": "stream",
     "text": [
      "`torch_dtype` is deprecated! Use `dtype` instead!\n",
      "Loading checkpoint shards: 100%|██████████| 2/2 [00:00<00:00,  3.78it/s]\n",
      "Fetching 2 files: 100%|██████████| 2/2 [00:00<00:00, 11259.88it/s]\n",
      "Using a slow image processor as `use_fast` is unset and a slow processor was saved with this model. `use_fast=True` will be the default behavior in v4.52, even if the model was saved with a slow processor. This will result in minor differences in outputs. You'll still be able to use a slow processor with `use_fast=False`.\n",
      "Device set to use cpu\n"
     ]
    }
   ],
   "source": [
    "from transformers import pipeline\n",
    "from PIL import Image\n",
    "import requests\n",
    "import torch\n",
    "\n",
    "pipe = pipeline(\n",
    "    \"image-text-to-text\",\n",
    "    model=\"google/medgemma-4b-it\",\n",
    "    torch_dtype=torch.bfloat16,\n",
    "    device=\"cpu\",\n",
    ")"
   ]
  },
  {
   "cell_type": "code",
   "execution_count": 5,
   "metadata": {},
   "outputs": [
    {
     "name": "stdout",
     "output_type": "stream",
     "text": [
      "Okay, here's a description of the chest X-ray you provided, from an expert radiologist's perspective:\n",
      "\n",
      "**Overall Impression:**\n",
      "\n",
      "The chest X-ray shows a relatively normal appearance, with no obvious acute findings. The lungs are clear, and the heart size appears within normal limits. There are some surgical clips present in the mediastinum, likely related to a previous surgical intervention.\n",
      "\n",
      "**Detailed Findings:**\n",
      "\n",
      "*   **Bones:** The ribs, clavicles, and other bony structures appear intact. There are no obvious fractures or dislocations.\n",
      "*   **Lungs:** The lungs are clear bilaterally, with no evidence of consolidation, nodules, masses, or pleural effusions. The lung markings are normal.\n",
      "*   **Heart:** The heart size appears within normal limits. The cardiomediastinal silhouette is unremarkable.\n",
      "*   **Mediastinum:** The mediastinum is midline. There are surgical clips present in the mediastinum, likely related to a previous surgical intervention.\n",
      "*   **Diaphragm:** The diaphragms are well-defined and appear normal.\n",
      "*   **Soft Tissues:** The soft tissues of the chest wall are unremarkable.\n",
      "\n",
      "**Possible Considerations:**\n",
      "\n",
      "*   The presence of surgical clips in the mediastinum warrants further investigation if the patient is experiencing any symptoms related to the previous surgery.\n",
      "*   If the patient is experiencing any respiratory symptoms, further imaging (such as a CT scan) may be warranted to rule out other potential causes.\n",
      "\n",
      "**In summary, this chest X-ray appears normal, with no acute findings. However, the presence of surgical clips in the mediastinum warrants further investigation if the patient is experiencing any symptoms related to the previous surgery.**\n",
      "\n",
      "**Disclaimer:** This is a radiological interpretation based on a single image. A complete evaluation requires correlation with the patient's clinical history, physical examination findings, and potentially additional imaging studies. This is not a substitute for a formal radiological report.\n",
      "\n"
     ]
    }
   ],
   "source": [
    "image = Image.open(\"image.jpg\")\n",
    "\n",
    "messages = [\n",
    "    {\n",
    "        \"role\": \"system\",\n",
    "        \"content\": [{\"type\": \"text\", \"text\": \"You are an expert radiologist.\"}]\n",
    "    },\n",
    "    {\n",
    "        \"role\": \"user\",\n",
    "        \"content\": [\n",
    "            {\"type\": \"text\", \"text\": \"Describe this X-ray\"},\n",
    "            {\"type\": \"image\", \"image\": image}\n",
    "        ]\n",
    "    }\n",
    "]\n",
    "\n",
    "output = pipe(text=messages, max_new_tokens=500)\n",
    "print(output[0][\"generated_text\"][-1][\"content\"])\n"
   ]
  }
 ],
 "metadata": {
  "kernelspec": {
   "display_name": "env",
   "language": "python",
   "name": "python3"
  },
  "language_info": {
   "codemirror_mode": {
    "name": "ipython",
    "version": 3
   },
   "file_extension": ".py",
   "mimetype": "text/x-python",
   "name": "python",
   "nbconvert_exporter": "python",
   "pygments_lexer": "ipython3",
   "version": "3.12.3"
  }
 },
 "nbformat": 4,
 "nbformat_minor": 2
}
