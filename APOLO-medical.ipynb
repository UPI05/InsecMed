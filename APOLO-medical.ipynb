{
 "cells": [
  {
   "cell_type": "code",
   "execution_count": null,
   "metadata": {},
   "outputs": [],
   "source": [
    "from huggingface_hub import login\n",
    "\n",
    "login(\"\")"
   ]
  },
  {
   "cell_type": "code",
   "execution_count": null,
   "metadata": {},
   "outputs": [
    {
     "ename": "SyntaxError",
     "evalue": "unterminated string literal (detected at line 6) (2950224540.py, line 6)",
     "output_type": "error",
     "traceback": [
      "  \u001b[36mCell\u001b[39m\u001b[36m \u001b[39m\u001b[32mIn[4]\u001b[39m\u001b[32m, line 6\u001b[39m\n\u001b[31m    \u001b[39m\u001b[31mmodel_id = \"samihalawa/APOLO-medical-multimodal-instruct\u001b[39m\n               ^\n\u001b[31mSyntaxError\u001b[39m\u001b[31m:\u001b[39m unterminated string literal (detected at line 6)\n"
     ]
    }
   ],
   "source": [
    "import torch\n",
    "from transformers import AutoModelForCausalLM, AutoProcessor\n",
    "from PIL import Image\n",
    "\n",
    "# Initialize the model and processor\n",
    "model_id = \"samihalawa/APOLO-medical-multimodal-instruct\"\n",
    "processor = AutoProcessor.from_pretrained(model_id)\n",
    "model = AutoModelForCausalLM.from_pretrained(model_id, trust_remote_code=True)\n",
    "model = model.to(torch.bfloat16).cuda().eval()\n",
    "\n"
   ]
  },
  {
   "cell_type": "code",
   "execution_count": null,
   "metadata": {},
   "outputs": [],
   "source": [
    "\n",
    "# Prepare a clinical query with an image\n",
    "conversation = [\n",
    "    {\n",
    "        \"role\": \"User\",\n",
    "        \"content\": \"<image>\\nDescribe the key findings in this chest X-ray.\",\n",
    "        \"images\": [\"path/to/anonymized_chest_xray.jpg\"],\n",
    "    },\n",
    "    {\"role\": \"Assistant\", \"content\": \"\"}\n",
    "]\n",
    "\n",
    "# Process images and prepare inputs\n",
    "images = [Image.open(img_path) for img_path in conversation[0][\"images\"]]\n",
    "inputs = processor(\n",
    "    conversations=conversation,\n",
    "    images=images,\n",
    "    force_batchify=True,\n",
    "    privacy_mode=True  # Ensures Stage 1 -> Stage 2 privacy enforcement\n",
    ").to(model.device)\n",
    "\n",
    "# Generate response with reasoning\n",
    "with torch.no_grad():\n",
    "    generated_ids = model.generate(\n",
    "        input_ids=inputs.input_ids,\n",
    "        attention_mask=inputs.attention_mask,\n",
    "        max_new_tokens=512,\n",
    "        temperature=0.7,\n",
    "        do_sample=True\n",
    "    )\n",
    "\n",
    "response = processor.tokenizer.decode(generated_ids[0], skip_special_tokens=True)\n",
    "print(response)"
   ]
  }
 ],
 "metadata": {
  "kernelspec": {
   "display_name": "env",
   "language": "python",
   "name": "python3"
  },
  "language_info": {
   "codemirror_mode": {
    "name": "ipython",
    "version": 3
   },
   "file_extension": ".py",
   "mimetype": "text/x-python",
   "name": "python",
   "nbconvert_exporter": "python",
   "pygments_lexer": "ipython3",
   "version": "3.12.3"
  }
 },
 "nbformat": 4,
 "nbformat_minor": 2
}
