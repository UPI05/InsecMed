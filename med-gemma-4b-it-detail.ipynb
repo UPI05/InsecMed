{
 "cells": [
  {
   "cell_type": "code",
   "execution_count": 1,
   "metadata": {},
   "outputs": [
    {
     "name": "stderr",
     "output_type": "stream",
     "text": [
      "/home/d1l1th1um/Desktop/demo/env/lib/python3.12/site-packages/tqdm/auto.py:21: TqdmWarning: IProgress not found. Please update jupyter and ipywidgets. See https://ipywidgets.readthedocs.io/en/stable/user_install.html\n",
      "  from .autonotebook import tqdm as notebook_tqdm\n",
      "`torch_dtype` is deprecated! Use `dtype` instead!\n",
      "Loading checkpoint shards: 100%|██████████| 2/2 [00:00<00:00,  4.40it/s]\n",
      "Fetching 2 files: 100%|██████████| 2/2 [00:00<00:00, 15768.06it/s]\n",
      "Using a slow image processor as `use_fast` is unset and a slow processor was saved with this model. `use_fast=True` will be the default behavior in v4.52, even if the model was saved with a slow processor. This will result in minor differences in outputs. You'll still be able to use a slow processor with `use_fast=False`.\n"
     ]
    }
   ],
   "source": [
    "# pip install accelerate\n",
    "from transformers import AutoProcessor, AutoModelForImageTextToText\n",
    "from PIL import Image\n",
    "import requests\n",
    "import torch\n",
    "\n",
    "model_id = \"google/medgemma-4b-it\"\n",
    "\n",
    "model = AutoModelForImageTextToText.from_pretrained(\n",
    "    model_id,\n",
    "    torch_dtype=torch.bfloat16,\n",
    "    device_map=\"auto\",\n",
    ")\n",
    "processor = AutoProcessor.from_pretrained(model_id)\n",
    "\n"
   ]
  },
  {
   "cell_type": "code",
   "execution_count": 2,
   "metadata": {},
   "outputs": [
    {
     "name": "stdout",
     "output_type": "stream",
     "text": [
      "Okay, I've reviewed the chest X-ray you provided.\n",
      "\n",
      "**Overall Impression:**\n",
      "\n",
      "The chest X-ray appears relatively normal. There are no obvious signs of acute lung pathology such as pneumonia, pneumothorax, or large pleural effusions. The heart size appears within normal limits. The mediastinum is also unremarkable.\n",
      "\n",
      "**Specific Observations:**\n",
      "\n",
      "*   **Lung Fields:** The lung fields are clear bilaterally, with no focal consolidations, masses, or infiltrates identified.\n",
      "*   **Heart Size:** The heart size appears within normal limits.\n",
      "*   **Mediastinum:** The mediastinum is unremarkable.\n",
      "*   **Bones:** The visualized bony structures (ribs, clavicles, and thoracic spine) appear intact.\n",
      "*   **Diaphragm:** The diaphragms are well-defined.\n",
      "*   **Mediastinal Structures:** The mediastinal structures, including the trachea and major vessels, appear normal.\n",
      "\n",
      "**Possible Considerations:**\n",
      "\n",
      "*   **Subtle Findings:** It's always possible that very subtle findings could be present that are not readily apparent on a single X-ray.\n",
      "*   **Clinical Correlation:** The interpretation of any X-ray should always be correlated with the patient's clinical history, symptoms, and physical examination findings.\n",
      "\n",
      "**Conclusion:**\n",
      "\n",
      "Based on the provided X-ray, there are no obvious signs of significant lung disease. However, a definitive diagnosis requires a comprehensive evaluation, including the patient's clinical history and potentially additional imaging studies if indicated.\n",
      "\n",
      "**Disclaimer:**\n",
      "\n",
      "This interpretation is based solely on the provided image and is for informational purposes only. It should not be considered a substitute for a formal radiological report from a qualified radiologist. A radiologist would consider the patient's clinical history and other relevant factors to provide a complete and accurate diagnosis.\n",
      "\n"
     ]
    }
   ],
   "source": [
    "\n",
    "image = Image.open(\"image.jpg\")\n",
    "\n",
    "messages = [\n",
    "    {\n",
    "        \"role\": \"system\",\n",
    "        \"content\": [{\"type\": \"text\", \"text\": \"You are an expert radiologist.\"}]\n",
    "    },\n",
    "    {\n",
    "        \"role\": \"user\",\n",
    "        \"content\": [\n",
    "            {\"type\": \"text\", \"text\": \"This is my lung. Do you think that i'm healthy?\"},\n",
    "            {\"type\": \"image\", \"image\": image}\n",
    "        ]\n",
    "    }\n",
    "]\n",
    "\n",
    "inputs = processor.apply_chat_template(\n",
    "    messages, add_generation_prompt=True, tokenize=True,\n",
    "    return_dict=True, return_tensors=\"pt\"\n",
    ").to(model.device, dtype=torch.bfloat16)\n",
    "\n",
    "input_len = inputs[\"input_ids\"].shape[-1]\n",
    "\n",
    "with torch.inference_mode():\n",
    "    generation = model.generate(**inputs, max_new_tokens=500, do_sample=False)\n",
    "    generation = generation[0][input_len:]\n",
    "\n",
    "decoded = processor.decode(generation, skip_special_tokens=True)\n",
    "print(decoded)"
   ]
  }
 ],
 "metadata": {
  "kernelspec": {
   "display_name": "env",
   "language": "python",
   "name": "python3"
  },
  "language_info": {
   "codemirror_mode": {
    "name": "ipython",
    "version": 3
   },
   "file_extension": ".py",
   "mimetype": "text/x-python",
   "name": "python",
   "nbconvert_exporter": "python",
   "pygments_lexer": "ipython3",
   "version": "3.12.3"
  }
 },
 "nbformat": 4,
 "nbformat_minor": 2
}
